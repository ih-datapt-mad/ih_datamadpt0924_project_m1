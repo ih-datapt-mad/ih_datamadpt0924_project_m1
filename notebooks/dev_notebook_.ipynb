{
 "cells": [
  {
   "cell_type": "markdown",
   "id": "ce7d9907",
   "metadata": {},
   "source": [
    "### dev_notebook_\n",
    "\n",
    "This is your development environment...you may start:\n",
    "- Exploring your data.\n",
    "- Testing the ad-hoc methods.\n",
    "- Designing your pipeline."
   ]
  },
  {
   "cell_type": "code",
   "execution_count": null,
   "id": "34f39f9b",
   "metadata": {},
   "outputs": [],
   "source": []
  }
 ],
 "metadata": {
  "kernelspec": {
   "display_name": "Python [conda env:.conda-ironhack]",
   "language": "python",
   "name": "conda-env-.conda-ironhack-py"
  },
  "language_info": {
   "codemirror_mode": {
    "name": "ipython",
    "version": 3
   },
   "file_extension": ".py",
   "mimetype": "text/x-python",
   "name": "python",
   "nbconvert_exporter": "python",
   "pygments_lexer": "ipython3",
   "version": "3.7.11"
  }
 },
 "nbformat": 4,
 "nbformat_minor": 5
}
